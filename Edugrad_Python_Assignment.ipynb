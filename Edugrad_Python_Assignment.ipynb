{
 "cells": [
  {
   "cell_type": "markdown",
   "metadata": {},
   "source": [
    "# Final Assignment"
   ]
  },
  {
   "cell_type": "markdown",
   "metadata": {},
   "source": [
    "## Problem 1"
   ]
  },
  {
   "cell_type": "code",
   "execution_count": 3,
   "metadata": {},
   "outputs": [
    {
     "name": "stdout",
     "output_type": "stream",
     "text": [
      "Enter the integer8\n",
      "{1: 1, 2: 4, 3: 9, 4: 16, 5: 25, 6: 36, 7: 49, 8: 64}\n"
     ]
    }
   ],
   "source": [
    "i = int(input(\"Enter the integer\"))\n",
    "result_dict = {n:n*n for n in range(1,i+1)}\n",
    "print(result_dict)"
   ]
  },
  {
   "cell_type": "markdown",
   "metadata": {},
   "source": [
    "## Problem 2"
   ]
  },
  {
   "cell_type": "code",
   "execution_count": 2,
   "metadata": {},
   "outputs": [
    {
     "name": "stdout",
     "output_type": "stream",
     "text": [
      "Enter the number6\n",
      "6 * 1 = 6\n",
      "6 * 2 = 12\n",
      "6 * 3 = 18\n",
      "6 * 4 = 24\n",
      "6 * 5 = 30\n",
      "6 * 6 = 36\n",
      "6 * 7 = 42\n",
      "6 * 8 = 48\n",
      "6 * 9 = 54\n",
      "6 * 10 = 60\n"
     ]
    }
   ],
   "source": [
    "n = int(input(\"Enter the number\"))\n",
    "for i in range(1,11):\n",
    "    print(str(n) + \" * \" + str(i) + \" = \" + str(i * n))"
   ]
  },
  {
   "cell_type": "markdown",
   "metadata": {},
   "source": [
    "## Problem 3"
   ]
  },
  {
   "cell_type": "code",
   "execution_count": 4,
   "metadata": {},
   "outputs": [
    {
     "name": "stdout",
     "output_type": "stream",
     "text": [
      "Sum = 7156\n"
     ]
    }
   ],
   "source": [
    "items = [6, 50, 100, 7000]\n",
    "total = sum(items)\n",
    "print(\"Sum =\",total)"
   ]
  },
  {
   "cell_type": "markdown",
   "metadata": {},
   "source": [
    "## Problem 4(a)"
   ]
  },
  {
   "cell_type": "code",
   "execution_count": 5,
   "metadata": {},
   "outputs": [
    {
     "name": "stdout",
     "output_type": "stream",
     "text": [
      "Enter name, age, city, course: Raj, 17, Delhi, c++\n"
     ]
    }
   ],
   "source": [
    "student = input(\"Enter name, age, city, course: \")\n",
    "student = tuple(student.split(\",\"))"
   ]
  },
  {
   "cell_type": "markdown",
   "metadata": {},
   "source": [
    "## Problem 4(b)"
   ]
  },
  {
   "cell_type": "code",
   "execution_count": 6,
   "metadata": {},
   "outputs": [
    {
     "name": "stdout",
     "output_type": "stream",
     "text": [
      "Tuple length = 4\n"
     ]
    }
   ],
   "source": [
    "tup_count = len(student)\n",
    "print(\"Tuple length =\", tup_count)"
   ]
  },
  {
   "cell_type": "markdown",
   "metadata": {},
   "source": [
    "## Problem 4(c,d)"
   ]
  },
  {
   "cell_type": "code",
   "execution_count": 7,
   "metadata": {},
   "outputs": [
    {
     "name": "stdout",
     "output_type": "stream",
     "text": [
      "Name of the student = Raj\n",
      "Agae of the student=  17\n",
      "City of the student=  Delhi\n",
      "Course of the student=  c++\n"
     ]
    }
   ],
   "source": [
    "s_name, s_age, s_city, s_course = student\n",
    "\n",
    "print(\"Name of the student =\",s_name)\n",
    "print(\"Agae of the student=\", s_age)\n",
    "print(\"City of the student=\", s_city)\n",
    "print(\"Course of the student=\", s_course)"
   ]
  },
  {
   "cell_type": "markdown",
   "metadata": {},
   "source": [
    "## Problem 5(a,b,c,d)"
   ]
  },
  {
   "cell_type": "code",
   "execution_count": 8,
   "metadata": {},
   "outputs": [
    {
     "name": "stdout",
     "output_type": "stream",
     "text": [
      "{'col1': 'Red', 'col2': 'Orange', 'col3': 'Yellow', 'col4': 'Green'}\n"
     ]
    }
   ],
   "source": [
    "colors = {\"col1\":\"Red\", \"col2\":\"Blue\", \"col3\":\"Yellow\"}\n",
    "colors[\"col4\"] = \"Green\"\n",
    "colors[\"col2\"] = \"Orange\"\n",
    "print(colors)"
   ]
  },
  {
   "cell_type": "markdown",
   "metadata": {},
   "source": [
    "## Problem 5(e,f,g,h)"
   ]
  },
  {
   "cell_type": "code",
   "execution_count": 9,
   "metadata": {},
   "outputs": [
    {
     "name": "stdout",
     "output_type": "stream",
     "text": [
      "Colors = {'col1': 'Red', 'col2': 'Orange', 'col3': 'Yellow', 'col4': 'Green'}\n",
      "New Colors = {'col1': 'Red', 'col2': 'Orange'}\n",
      "Colors after deletion = {}\n",
      "Col2 = Orange\n"
     ]
    }
   ],
   "source": [
    "keys = [\"col1\", \"col2\"]\n",
    "colors_new = colors.fromkeys(keys)\n",
    "for k in colors_new:\n",
    "    colors_new[k] = colors[k]\n",
    "print(\"Colors =\",colors)\n",
    "print(\"New Colors =\",colors_new)\n",
    "colors.clear()\n",
    "print(\"Colors after deletion =\",colors)\n",
    "print(\"Col2 =\",colors_new[\"col2\"])"
   ]
  },
  {
   "cell_type": "markdown",
   "metadata": {},
   "source": [
    "## Problem 6"
   ]
  },
  {
   "cell_type": "code",
   "execution_count": 10,
   "metadata": {},
   "outputs": [
    {
     "name": "stdout",
     "output_type": "stream",
     "text": [
      "List of prime numbers between 1-100 =  [2, 3, 5, 7, 11, 13, 17, 19, 23, 29, 31, 37, 41, 43, 47, 53, 59, 61, 67, 71, 73, 79, 83, 89, 97]\n"
     ]
    }
   ],
   "source": [
    "# Apply Seive Method\n",
    "l = list(range(3,100,2)) #2 is a prime, and all multiples of 2 are non-prime\n",
    "prime = True # Set for while condition\n",
    "p = 0 # The pth index of the list which will be used to check other numbers\n",
    "while prime and p<len(l):\n",
    "    prime = False\n",
    "    n = l[p] # This is prime, else it should have been eleminated by a value before it.\n",
    "    for i,j in enumerate(l):\n",
    "        if j%n==0 and i!=p: \n",
    "            l.pop(i) # Remove non-primes\n",
    "            prime = True\n",
    "    p = p + 1\n",
    "l.insert(0, 2) #Add 2 to the prime list\n",
    "print(\"List of prime numbers between 1-100 = \",l)\n",
    "assert(len(l) == 25) # There should be 25 primes from 1-100"
   ]
  },
  {
   "cell_type": "markdown",
   "metadata": {},
   "source": [
    "## Problem 7"
   ]
  },
  {
   "cell_type": "code",
   "execution_count": 12,
   "metadata": {},
   "outputs": [
    {
     "name": "stdout",
     "output_type": "stream",
     "text": [
      "Enter the string: Hello My name is Ram\n",
      "No. of Uppercase characters : 3\n",
      "No. of Lowercase characters : 13\n"
     ]
    }
   ],
   "source": [
    "def ftn_count_upper_lower(string):\n",
    "    c_lower, c_upper = 0,0\n",
    "    for i in string:\n",
    "        if i.isalpha() and i.islower():\n",
    "            c_lower +=1\n",
    "        elif i.isalpha() and i.isupper():   \n",
    "            c_upper +=1\n",
    "    return c_lower, c_upper        \n",
    "s_input = input(\"Enter the string: \")\n",
    "result = ftn_count_upper_lower(s_input)\n",
    "print(\"No. of Uppercase characters :\",result[1])\n",
    "print(\"No. of Lowercase characters :\",result[0])"
   ]
  },
  {
   "cell_type": "markdown",
   "metadata": {},
   "source": [
    "## Problem 8"
   ]
  },
  {
   "cell_type": "code",
   "execution_count": 13,
   "metadata": {},
   "outputs": [],
   "source": [
    "## helper functions and imports\n",
    "import csv\n",
    "\n",
    "def ext_emp_code(string):\n",
    "    return string[3:]\n",
    "\n",
    "def break_names(string):\n",
    "    return string.split()\n",
    "\n",
    "def modify_rows(rows_list):\n",
    "    for row in rows_list:\n",
    "        row[0] = ext_emp_code(row[0])\n",
    "        row[1], l_name  = break_names(row[1])\n",
    "        row.insert(2, l_name)\n",
    "    return rows_list\n",
    "\n",
    "def csv_modifier(f_name, mode, rows_list):\n",
    "    rows_list = modify_rows(rows_list)\n",
    "    with open(f_name, mode) as csv_file:\n",
    "        csv_writer = csv.writer(csv_file)\n",
    "        csv_writer.writerows(rows_list)    "
   ]
  },
  {
   "cell_type": "code",
   "execution_count": 14,
   "metadata": {},
   "outputs": [
    {
     "name": "stdout",
     "output_type": "stream",
     "text": [
      "1,Anshika,Garg,Ranchi,21,Noida\r\n",
      "2,Rohit,Awasthi,Allahabad,20,Delhi\r\n"
     ]
    }
   ],
   "source": [
    "## Original Employee List\n",
    "! cat \"1553497424_Dataset_Final_set/employee_list.csv\""
   ]
  },
  {
   "cell_type": "code",
   "execution_count": 15,
   "metadata": {},
   "outputs": [],
   "source": [
    "try:\n",
    "    with open(\"1553497424_Dataset_Final_set/new_records.csv\",\"r\") as new_file:\n",
    "        csv_reader = csv.reader(new_file)\n",
    "        rows_perma = []\n",
    "        rows_temp = []\n",
    "        for row in csv_reader:\n",
    "            if row[0].startswith(\"emp\"):\n",
    "                rows_perma.append(row)\n",
    "            else:\n",
    "                rows_temp.append(row)\n",
    "        \n",
    "#         print(\"### Permanent employees are:\")\n",
    "#         print(rows_perma)\n",
    "#         print(\"### Temporary employees are:\")\n",
    "#         print(rows_temp)\n",
    "        csv_modifier(\"1553497424_Dataset_Final_set/contractors_list.csv\", \"w\", rows_temp)\n",
    "        csv_modifier(\"1553497424_Dataset_Final_set/employee_list.csv\", \"a\", rows_perma)\n",
    "except FileNotFoundError:\n",
    "    print(\"File does not exists.\")"
   ]
  },
  {
   "cell_type": "code",
   "execution_count": 16,
   "metadata": {},
   "outputs": [
    {
     "name": "stdout",
     "output_type": "stream",
     "text": [
      "17,Rishab,Srivastava,Mumbai,22,Noida\r",
      "\r\n",
      "18,Naina,Gupta,Sonipat,28,New Delhi\r",
      "\r\n",
      "19,Jai,Tiwari,Hyderabad,24,Noida\r",
      "\r\n"
     ]
    }
   ],
   "source": [
    "# New Contract List\n",
    "! cat \"1553497424_Dataset_Final_set/contractors_list.csv\""
   ]
  },
  {
   "cell_type": "code",
   "execution_count": 17,
   "metadata": {},
   "outputs": [
    {
     "name": "stdout",
     "output_type": "stream",
     "text": [
      "1,Anshika,Garg,Ranchi,21,Noida\r\n",
      "2,Rohit,Awasthi,Allahabad,20,Delhi\r\n",
      "11,Aakash,Kumar,Patna,22,Noida\r",
      "\r\n",
      "12,Naman,Arora,Lucknow,18,Delhi\r",
      "\r\n",
      "13,Vikas,Jain,Bhopal,25,Gurgaon\r",
      "\r\n",
      "14,Nirmal,Mishra,Gurgaon,21,Gurgaon\r",
      "\r\n",
      "15,Priya,Singh,Gurgaon,25,Delhi\r",
      "\r\n",
      "16,Pravita,Singh,Kanpur,21,Delhi\r",
      "\r\n"
     ]
    }
   ],
   "source": [
    "# Modified Employee List\n",
    "! cat \"1553497424_Dataset_Final_set/employee_list.csv\""
   ]
  }
 ],
 "metadata": {
  "kernelspec": {
   "display_name": "Python 3",
   "language": "python",
   "name": "python3"
  },
  "language_info": {
   "codemirror_mode": {
    "name": "ipython",
    "version": 3
   },
   "file_extension": ".py",
   "mimetype": "text/x-python",
   "name": "python",
   "nbconvert_exporter": "python",
   "pygments_lexer": "ipython3",
   "version": "3.6.8"
  }
 },
 "nbformat": 4,
 "nbformat_minor": 2
}

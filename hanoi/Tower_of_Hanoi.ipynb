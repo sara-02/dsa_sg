{
 "cells": [
  {
   "cell_type": "markdown",
   "metadata": {},
   "source": [
    "## [Tower of Hanoi](https://en.wikipedia.org/wiki/Tower_of_Hanoi)"
   ]
  },
  {
   "cell_type": "markdown",
   "metadata": {},
   "source": [
    "* [Video to understand the behaviour and pesudo code](https://www.youtube.com/watch?v=rVPuzFYlfYE)\n",
    "* [Geeks for Geeks explaination and code](http://www.geeksforgeeks.org/c-program-for-tower-of-hanoi/)    "
   ]
  },
  {
   "cell_type": "markdown",
   "metadata": {},
   "source": [
    "### The time complexity is 2^n -1\n",
    "TODO:\n",
    "* Proof of time of complexity"
   ]
  },
  {
   "cell_type": "code",
   "execution_count": 13,
   "metadata": {},
   "outputs": [],
   "source": [
    "import matplotlib.pyplot as plt\n",
    "from timeit import default_timer as timer\n",
    "%matplotlib inline"
   ]
  },
  {
   "cell_type": "code",
   "execution_count": 14,
   "metadata": {
    "code_folding": []
   },
   "outputs": [],
   "source": [
    "def print_move(peg, from_tower, to_tower):\n",
    "    \"\"\"To print the movement of pegs.\"\"\"\n",
    "\n",
    "    print \"Moving peg %d from %s to %s\" % (peg, from_tower, to_tower)"
   ]
  },
  {
   "cell_type": "code",
   "execution_count": 15,
   "metadata": {
    "code_folding": []
   },
   "outputs": [],
   "source": [
    "def hanoi_without_prints(pegs, from_tower, to_tower, spare_tower):\n",
    "    \"\"\"Solve the hanoi problem recursively.\n",
    "       Move the first N-1 pegs from source tower to spare tower.\n",
    "       Move the last Nth peg from source tower to target tower.\n",
    "\n",
    "       :param pegs: The number of pegs to be transfered.\n",
    "       :param from_tower: The tower where the peg is initally.\n",
    "       :param to_tower: The target tower where the peg is moved to.\n",
    "       :param spare_tower: The tower to be used as a temopary tower.\"\"\"\n",
    "\n",
    "    # Does not print any movement.\n",
    "    if pegs == 1:\n",
    "        pass\n",
    "    else:\n",
    "        hanoi_without_prints(pegs - 1, from_tower, spare_tower, to_tower)\n",
    "        hanoi_without_prints(1, from_tower, to_tower, spare_tower)\n",
    "        hanoi_without_prints(pegs - 1, spare_tower, to_tower, from_tower)"
   ]
  },
  {
   "cell_type": "code",
   "execution_count": 16,
   "metadata": {},
   "outputs": [],
   "source": [
    "def hanoi_with_prints(pegs, from_tower, to_tower, spare_tower):\n",
    "    \"\"\"Solve the hanoi problem recursively.\n",
    "       Move the first N-1 pegs from source tower to spare tower.\n",
    "       Move the last Nth peg from source tower to target tower.\n",
    "\n",
    "       :param pegs: The number of pegs to be transfered.\n",
    "       :param from_tower: The tower where the peg is initally.\n",
    "       :param to_tower: The target tower where the peg is moved to.\n",
    "       :param spare_tower: The tower to be used as a temopary tower.\"\"\"\n",
    "\n",
    "    # Prints movement of each peg.\n",
    "    if pegs == 1:\n",
    "        print_move(1, from_tower, to_tower)\n",
    "    else:\n",
    "        hanoi_with_prints(pegs - 1, from_tower, spare_tower, to_tower)\n",
    "        print_move(pegs, from_tower, to_tower)\n",
    "        hanoi_with_prints(pegs - 1, spare_tower, to_tower, from_tower)"
   ]
  },
  {
   "cell_type": "code",
   "execution_count": 28,
   "metadata": {},
   "outputs": [],
   "source": [
    "def compute_time_to_solve():\n",
    "    \"\"\"Calculate the time to execute the tower of hanoi problem recursively for varying input size.\n",
    "       Also, plots the graph of input size vs execution time for these computed values. \n",
    "       \n",
    "       :return time_to_solve: Return a dictonary containing the time to execute for a given input size.\"\"\"\n",
    "    \n",
    "    max_limit = 35\n",
    "    time_to_solve = {n: 0 for n in range(1, max_limit)}\n",
    "    for n in time_to_solve:\n",
    "        start = timer()\n",
    "        hanoi_without_prints(n, 1, 2, 3)\n",
    "        end = timer()\n",
    "        time_to_solve[n] = end - start\n",
    "    X_values = time_to_solve.keys()\n",
    "    Y_values = time_to_solve.values()\n",
    "    plot_curve(X_values, Y_values)\n",
    "    return time_to_solve"
   ]
  },
  {
   "cell_type": "code",
   "execution_count": 40,
   "metadata": {},
   "outputs": [],
   "source": [
    "def plot_curve(X_values, Y_values, suffix=\"\"):\n",
    "    \"\"\"Plot and display a curve given the values for input size vs execution time. \n",
    "\n",
    "        :param X_values: The list of values for X-axis; input size.\n",
    "        :param Y_vlaues: The list of values for Y-axis; execution time.\n",
    "        :param suffix: Any additional title message to be displayed.\"\"\"\n",
    "\n",
    "    plt.plot(X_values, Y_values)\n",
    "    plt.xlabel('Number of pegs (Whole Number)')\n",
    "    plt.ylabel('Time to solve (Seconds)')\n",
    "    plt.title(\"Input size vs Execution Time\" +\" \"+ suffix)"
   ]
  },
  {
   "cell_type": "code",
   "execution_count": 39,
   "metadata": {},
   "outputs": [],
   "source": [
    "def extrapolate_time_to_solve(time_to_solve):\n",
    "    \"\"\"Based on the computed time to execute, extrapolate the time to execute for a larger input size.\n",
    "       Max limit set to 64, the initial Tower of Hanoi problem value.\n",
    "       \n",
    "       :param time_to_solve: The time to solve dictonary of value.\n",
    "       \n",
    "       :return time_to_solve: Return a dictonary containing the time to execute extrapolated.\"\"\"\n",
    "    \n",
    "    start_point = 35\n",
    "    for i in range(start_point, 65):\n",
    "        time_to_solve[i] = time_to_solve[i - 1] + time_to_solve[i - 1]\n",
    "    X_values = time_to_solve.keys()\n",
    "    Y_values = time_to_solve.values()\n",
    "    plot_curve(X_values, Y_values, \"Extrapolated\")\n",
    "    return time_to_solve"
   ]
  },
  {
   "cell_type": "code",
   "execution_count": 29,
   "metadata": {},
   "outputs": [
    {
     "data": {
      "image/png": "[encoded data removed]",
      "text/plain": [
       "<matplotlib.figure.Figure at 0x7f3f957fa810>"
      ]
     },
     "metadata": {},
     "output_type": "display_data"
    }
   ],
   "source": [
    "time_to_solve = compute_time_to_solve()"
   ]
  },
  {
   "cell_type": "code",
   "execution_count": 41,
   "metadata": {},
   "outputs": [
    {
     "data": {
      "image/png": "[encoded data removed]",
      "text/plain": [
       "<matplotlib.figure.Figure at 0x7f3f70861b50>"
      ]
     },
     "metadata": {},
     "output_type": "display_data"
    }
   ],
   "source": [
    "time_to_solve = extrapolate_time_to_solve(time_to_solve)"
   ]
  }
 ],
 "metadata": {
  "kernelspec": {
   "display_name": "Python 2",
   "language": "python",
   "name": "python2"
  },
  "language_info": {
   "codemirror_mode": {
    "name": "ipython",
    "version": 2
   },
   "file_extension": ".py",
   "mimetype": "text/x-python",
   "name": "python",
   "nbconvert_exporter": "python",
   "pygments_lexer": "ipython2",
   "version": "2.7.13"
  }
 },
 "nbformat": 4,
 "nbformat_minor": 1
}

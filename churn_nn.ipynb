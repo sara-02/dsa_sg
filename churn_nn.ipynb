{
 "cells": [
  {
   "cell_type": "markdown",
   "metadata": {},
   "source": [
    "# Churn prediction\n",
    "Based on the blog https://medium.com/@pushkarmandot/build-your-first-deep-learning-neural-network-model-using-keras-in-python-a90b5864116d"
   ]
  },
  {
   "cell_type": "code",
   "execution_count": 1,
   "metadata": {},
   "outputs": [
    {
     "name": "stderr",
     "output_type": "stream",
     "text": [
      "Using TensorFlow backend.\n"
     ]
    }
   ],
   "source": [
    "import numpy as np\n",
    "import pandas as pd\n",
    "\n",
    "from sklearn.preprocessing import LabelEncoder, OneHotEncoder\n",
    "from sklearn.model_selection import train_test_split\n",
    "from sklearn.preprocessing import StandardScaler\n",
    "from sklearn.metrics import confusion_matrix\n",
    "import keras\n",
    "from keras.models import Sequential\n",
    "from keras.layers import Dense\n",
    "from keras.layers import Dropout\n",
    "\n",
    "np.random.seed(301)"
   ]
  },
  {
   "cell_type": "code",
   "execution_count": 2,
   "metadata": {},
   "outputs": [],
   "source": [
    "churn_data = pd.read_csv(\"Churn_Modelling.csv\")"
   ]
  },
  {
   "cell_type": "code",
   "execution_count": 3,
   "metadata": {},
   "outputs": [
    {
     "data": {
      "text/html": [
       "<div>\n",
       "<style scoped>\n",
       "    .dataframe tbody tr th:only-of-type {\n",
       "        vertical-align: middle;\n",
       "    }\n",
       "\n",
       "    .dataframe tbody tr th {\n",
       "        vertical-align: top;\n",
       "    }\n",
       "\n",
       "    .dataframe thead th {\n",
       "        text-align: right;\n",
       "    }\n",
       "</style>\n",
       "<table border=\"1\" class=\"dataframe\">\n",
       "  <thead>\n",
       "    <tr style=\"text-align: right;\">\n",
       "      <th></th>\n",
       "      <th>RowNumber</th>\n",
       "      <th>CustomerId</th>\n",
       "      <th>Surname</th>\n",
       "      <th>CreditScore</th>\n",
       "      <th>Geography</th>\n",
       "      <th>Gender</th>\n",
       "      <th>Age</th>\n",
       "      <th>Tenure</th>\n",
       "      <th>Balance</th>\n",
       "      <th>NumOfProducts</th>\n",
       "      <th>HasCrCard</th>\n",
       "      <th>IsActiveMember</th>\n",
       "      <th>EstimatedSalary</th>\n",
       "      <th>Exited</th>\n",
       "    </tr>\n",
       "  </thead>\n",
       "  <tbody>\n",
       "    <tr>\n",
       "      <th>0</th>\n",
       "      <td>1</td>\n",
       "      <td>15634602</td>\n",
       "      <td>Hargrave</td>\n",
       "      <td>619</td>\n",
       "      <td>France</td>\n",
       "      <td>Female</td>\n",
       "      <td>42</td>\n",
       "      <td>2</td>\n",
       "      <td>0.00</td>\n",
       "      <td>1</td>\n",
       "      <td>1</td>\n",
       "      <td>1</td>\n",
       "      <td>101348.88</td>\n",
       "      <td>1</td>\n",
       "    </tr>\n",
       "    <tr>\n",
       "      <th>1</th>\n",
       "      <td>2</td>\n",
       "      <td>15647311</td>\n",
       "      <td>Hill</td>\n",
       "      <td>608</td>\n",
       "      <td>Spain</td>\n",
       "      <td>Female</td>\n",
       "      <td>41</td>\n",
       "      <td>1</td>\n",
       "      <td>83807.86</td>\n",
       "      <td>1</td>\n",
       "      <td>0</td>\n",
       "      <td>1</td>\n",
       "      <td>112542.58</td>\n",
       "      <td>0</td>\n",
       "    </tr>\n",
       "    <tr>\n",
       "      <th>2</th>\n",
       "      <td>3</td>\n",
       "      <td>15619304</td>\n",
       "      <td>Onio</td>\n",
       "      <td>502</td>\n",
       "      <td>France</td>\n",
       "      <td>Female</td>\n",
       "      <td>42</td>\n",
       "      <td>8</td>\n",
       "      <td>159660.80</td>\n",
       "      <td>3</td>\n",
       "      <td>1</td>\n",
       "      <td>0</td>\n",
       "      <td>113931.57</td>\n",
       "      <td>1</td>\n",
       "    </tr>\n",
       "    <tr>\n",
       "      <th>3</th>\n",
       "      <td>4</td>\n",
       "      <td>15701354</td>\n",
       "      <td>Boni</td>\n",
       "      <td>699</td>\n",
       "      <td>France</td>\n",
       "      <td>Female</td>\n",
       "      <td>39</td>\n",
       "      <td>1</td>\n",
       "      <td>0.00</td>\n",
       "      <td>2</td>\n",
       "      <td>0</td>\n",
       "      <td>0</td>\n",
       "      <td>93826.63</td>\n",
       "      <td>0</td>\n",
       "    </tr>\n",
       "    <tr>\n",
       "      <th>4</th>\n",
       "      <td>5</td>\n",
       "      <td>15737888</td>\n",
       "      <td>Mitchell</td>\n",
       "      <td>850</td>\n",
       "      <td>Spain</td>\n",
       "      <td>Female</td>\n",
       "      <td>43</td>\n",
       "      <td>2</td>\n",
       "      <td>125510.82</td>\n",
       "      <td>1</td>\n",
       "      <td>1</td>\n",
       "      <td>1</td>\n",
       "      <td>79084.10</td>\n",
       "      <td>0</td>\n",
       "    </tr>\n",
       "  </tbody>\n",
       "</table>\n",
       "</div>"
      ],
      "text/plain": [
       "   RowNumber  CustomerId   Surname  CreditScore Geography  Gender  Age  \\\n",
       "0          1    15634602  Hargrave          619    France  Female   42   \n",
       "1          2    15647311      Hill          608     Spain  Female   41   \n",
       "2          3    15619304      Onio          502    France  Female   42   \n",
       "3          4    15701354      Boni          699    France  Female   39   \n",
       "4          5    15737888  Mitchell          850     Spain  Female   43   \n",
       "\n",
       "   Tenure    Balance  NumOfProducts  HasCrCard  IsActiveMember  \\\n",
       "0       2       0.00              1          1               1   \n",
       "1       1   83807.86              1          0               1   \n",
       "2       8  159660.80              3          1               0   \n",
       "3       1       0.00              2          0               0   \n",
       "4       2  125510.82              1          1               1   \n",
       "\n",
       "   EstimatedSalary  Exited  \n",
       "0        101348.88       1  \n",
       "1        112542.58       0  \n",
       "2        113931.57       1  \n",
       "3         93826.63       0  \n",
       "4         79084.10       0  "
      ]
     },
     "execution_count": 3,
     "metadata": {},
     "output_type": "execute_result"
    }
   ],
   "source": [
    "churn_data.head()"
   ]
  },
  {
   "cell_type": "code",
   "execution_count": 4,
   "metadata": {},
   "outputs": [
    {
     "data": {
      "text/html": [
       "<div>\n",
       "<style scoped>\n",
       "    .dataframe tbody tr th:only-of-type {\n",
       "        vertical-align: middle;\n",
       "    }\n",
       "\n",
       "    .dataframe tbody tr th {\n",
       "        vertical-align: top;\n",
       "    }\n",
       "\n",
       "    .dataframe thead th {\n",
       "        text-align: right;\n",
       "    }\n",
       "</style>\n",
       "<table border=\"1\" class=\"dataframe\">\n",
       "  <thead>\n",
       "    <tr style=\"text-align: right;\">\n",
       "      <th></th>\n",
       "      <th>RowNumber</th>\n",
       "      <th>CustomerId</th>\n",
       "      <th>Surname</th>\n",
       "      <th>CreditScore</th>\n",
       "      <th>Geography</th>\n",
       "      <th>Gender</th>\n",
       "      <th>Age</th>\n",
       "      <th>Tenure</th>\n",
       "      <th>Balance</th>\n",
       "      <th>NumOfProducts</th>\n",
       "      <th>HasCrCard</th>\n",
       "      <th>IsActiveMember</th>\n",
       "      <th>EstimatedSalary</th>\n",
       "      <th>Exited</th>\n",
       "    </tr>\n",
       "  </thead>\n",
       "  <tbody>\n",
       "    <tr>\n",
       "      <th>9995</th>\n",
       "      <td>9996</td>\n",
       "      <td>15606229</td>\n",
       "      <td>Obijiaku</td>\n",
       "      <td>771</td>\n",
       "      <td>France</td>\n",
       "      <td>Male</td>\n",
       "      <td>39</td>\n",
       "      <td>5</td>\n",
       "      <td>0.00</td>\n",
       "      <td>2</td>\n",
       "      <td>1</td>\n",
       "      <td>0</td>\n",
       "      <td>96270.64</td>\n",
       "      <td>0</td>\n",
       "    </tr>\n",
       "    <tr>\n",
       "      <th>9996</th>\n",
       "      <td>9997</td>\n",
       "      <td>15569892</td>\n",
       "      <td>Johnstone</td>\n",
       "      <td>516</td>\n",
       "      <td>France</td>\n",
       "      <td>Male</td>\n",
       "      <td>35</td>\n",
       "      <td>10</td>\n",
       "      <td>57369.61</td>\n",
       "      <td>1</td>\n",
       "      <td>1</td>\n",
       "      <td>1</td>\n",
       "      <td>101699.77</td>\n",
       "      <td>0</td>\n",
       "    </tr>\n",
       "    <tr>\n",
       "      <th>9997</th>\n",
       "      <td>9998</td>\n",
       "      <td>15584532</td>\n",
       "      <td>Liu</td>\n",
       "      <td>709</td>\n",
       "      <td>France</td>\n",
       "      <td>Female</td>\n",
       "      <td>36</td>\n",
       "      <td>7</td>\n",
       "      <td>0.00</td>\n",
       "      <td>1</td>\n",
       "      <td>0</td>\n",
       "      <td>1</td>\n",
       "      <td>42085.58</td>\n",
       "      <td>1</td>\n",
       "    </tr>\n",
       "    <tr>\n",
       "      <th>9998</th>\n",
       "      <td>9999</td>\n",
       "      <td>15682355</td>\n",
       "      <td>Sabbatini</td>\n",
       "      <td>772</td>\n",
       "      <td>Germany</td>\n",
       "      <td>Male</td>\n",
       "      <td>42</td>\n",
       "      <td>3</td>\n",
       "      <td>75075.31</td>\n",
       "      <td>2</td>\n",
       "      <td>1</td>\n",
       "      <td>0</td>\n",
       "      <td>92888.52</td>\n",
       "      <td>1</td>\n",
       "    </tr>\n",
       "    <tr>\n",
       "      <th>9999</th>\n",
       "      <td>10000</td>\n",
       "      <td>15628319</td>\n",
       "      <td>Walker</td>\n",
       "      <td>792</td>\n",
       "      <td>France</td>\n",
       "      <td>Female</td>\n",
       "      <td>28</td>\n",
       "      <td>4</td>\n",
       "      <td>130142.79</td>\n",
       "      <td>1</td>\n",
       "      <td>1</td>\n",
       "      <td>0</td>\n",
       "      <td>38190.78</td>\n",
       "      <td>0</td>\n",
       "    </tr>\n",
       "  </tbody>\n",
       "</table>\n",
       "</div>"
      ],
      "text/plain": [
       "      RowNumber  CustomerId    Surname  CreditScore Geography  Gender  Age  \\\n",
       "9995       9996    15606229   Obijiaku          771    France    Male   39   \n",
       "9996       9997    15569892  Johnstone          516    France    Male   35   \n",
       "9997       9998    15584532        Liu          709    France  Female   36   \n",
       "9998       9999    15682355  Sabbatini          772   Germany    Male   42   \n",
       "9999      10000    15628319     Walker          792    France  Female   28   \n",
       "\n",
       "      Tenure    Balance  NumOfProducts  HasCrCard  IsActiveMember  \\\n",
       "9995       5       0.00              2          1               0   \n",
       "9996      10   57369.61              1          1               1   \n",
       "9997       7       0.00              1          0               1   \n",
       "9998       3   75075.31              2          1               0   \n",
       "9999       4  130142.79              1          1               0   \n",
       "\n",
       "      EstimatedSalary  Exited  \n",
       "9995         96270.64       0  \n",
       "9996        101699.77       0  \n",
       "9997         42085.58       1  \n",
       "9998         92888.52       1  \n",
       "9999         38190.78       0  "
      ]
     },
     "execution_count": 4,
     "metadata": {},
     "output_type": "execute_result"
    }
   ],
   "source": [
    "churn_data.tail()"
   ]
  },
  {
   "cell_type": "code",
   "execution_count": 5,
   "metadata": {},
   "outputs": [
    {
     "data": {
      "text/plain": [
       "(10000, 14)"
      ]
     },
     "execution_count": 5,
     "metadata": {},
     "output_type": "execute_result"
    }
   ],
   "source": [
    "churn_data.shape"
   ]
  },
  {
   "cell_type": "code",
   "execution_count": 6,
   "metadata": {},
   "outputs": [],
   "source": [
    "X = churn_data.iloc[:,3:13].values # .values converts this sliced df into ndarray\n",
    "y = churn_data.iloc[:, 13].values"
   ]
  },
  {
   "cell_type": "code",
   "execution_count": 7,
   "metadata": {},
   "outputs": [],
   "source": [
    "X[:,1] = LabelEncoder().fit_transform(X[:, 1])\n",
    "X[:, 2] = LabelEncoder().fit_transform(X[:, 2])"
   ]
  },
  {
   "cell_type": "code",
   "execution_count": 8,
   "metadata": {},
   "outputs": [
    {
     "data": {
      "text/plain": [
       "(10000, 10)"
      ]
     },
     "execution_count": 8,
     "metadata": {},
     "output_type": "execute_result"
    }
   ],
   "source": [
    "X.shape"
   ]
  },
  {
   "cell_type": "code",
   "execution_count": 9,
   "metadata": {},
   "outputs": [
    {
     "data": {
      "text/plain": [
       "array([[619, 0, 0, ..., 1, 1, 101348.88],\n",
       "       [608, 2, 0, ..., 0, 1, 112542.58],\n",
       "       [502, 0, 0, ..., 1, 0, 113931.57],\n",
       "       ...,\n",
       "       [709, 0, 0, ..., 0, 1, 42085.58],\n",
       "       [772, 1, 1, ..., 1, 0, 92888.52],\n",
       "       [792, 0, 0, ..., 1, 0, 38190.78]], dtype=object)"
      ]
     },
     "execution_count": 9,
     "metadata": {},
     "output_type": "execute_result"
    }
   ],
   "source": [
    "X"
   ]
  },
  {
   "cell_type": "code",
   "execution_count": 10,
   "metadata": {},
   "outputs": [
    {
     "name": "stderr",
     "output_type": "stream",
     "text": [
      "/usr/local/lib/python3.6/dist-packages/sklearn/preprocessing/_encoders.py:371: FutureWarning: The handling of integer data will change in version 0.22. Currently, the categories are determined based on the range [0, max(values)], while in the future they will be determined based on the unique values.\n",
      "If you want the future behaviour and silence this warning, you can specify \"categories='auto'\".\n",
      "In case you used a LabelEncoder before this OneHotEncoder to convert the categories to integers, then you can now use the OneHotEncoder directly.\n",
      "  warnings.warn(msg, FutureWarning)\n",
      "/usr/local/lib/python3.6/dist-packages/sklearn/preprocessing/_encoders.py:392: DeprecationWarning: The 'categorical_features' keyword is deprecated in version 0.20 and will be removed in 0.22. You can use the ColumnTransformer instead.\n",
      "  \"use the ColumnTransformer instead.\", DeprecationWarning)\n"
     ]
    }
   ],
   "source": [
    "onehotencoder = OneHotEncoder(categorical_features = [1])\n",
    "X = onehotencoder.fit_transform(X).toarray()\n",
    "X = X[:, 1:]"
   ]
  },
  {
   "cell_type": "code",
   "execution_count": 11,
   "metadata": {},
   "outputs": [
    {
     "data": {
      "text/plain": [
       "(10000, 11)"
      ]
     },
     "execution_count": 11,
     "metadata": {},
     "output_type": "execute_result"
    }
   ],
   "source": [
    "X.shape"
   ]
  },
  {
   "cell_type": "code",
   "execution_count": 12,
   "metadata": {},
   "outputs": [],
   "source": [
    "X_train, X_test, y_train, y_test = train_test_split(X, y, test_size = 0.2)"
   ]
  },
  {
   "cell_type": "code",
   "execution_count": 13,
   "metadata": {},
   "outputs": [],
   "source": [
    "X_train, X_val, y_train, y_val = train_test_split(X_train, y_train, test_size = 0.1)"
   ]
  },
  {
   "cell_type": "code",
   "execution_count": 14,
   "metadata": {},
   "outputs": [],
   "source": [
    "sc = StandardScaler()\n",
    "X_train = sc.fit_transform(X_train)\n",
    "X_test = sc.transform(X_test)\n",
    "X_val = sc.transform(X_val)"
   ]
  },
  {
   "cell_type": "code",
   "execution_count": 15,
   "metadata": {},
   "outputs": [
    {
     "data": {
      "text/plain": [
       "array([[ 1.72058015, -0.5739289 ,  1.8740067 , ..., -1.54384541,\n",
       "        -1.03390789, -1.7242227 ],\n",
       "       [-0.58119931, -0.5739289 ,  1.02986019, ...,  0.64773325,\n",
       "        -1.03390789,  0.46619827],\n",
       "       [-0.58119931, -0.5739289 ,  1.3008208 , ...,  0.64773325,\n",
       "         0.96720415,  0.75196518],\n",
       "       ...,\n",
       "       [-0.58119931,  1.74237609,  0.85269364, ...,  0.64773325,\n",
       "         0.96720415,  1.40718361],\n",
       "       [-0.58119931,  1.74237609,  0.54004678, ...,  0.64773325,\n",
       "        -1.03390789, -0.03853836],\n",
       "       [-0.58119931, -0.5739289 ,  0.62341928, ..., -1.54384541,\n",
       "        -1.03390789,  0.16871132]])"
      ]
     },
     "execution_count": 15,
     "metadata": {},
     "output_type": "execute_result"
    }
   ],
   "source": [
    "X_train"
   ]
  },
  {
   "cell_type": "code",
   "execution_count": 20,
   "metadata": {},
   "outputs": [],
   "source": [
    "churner_nn = Sequential()\n",
    "dense_classes = [15, 10, 5]\n",
    "drops = [0.15, 0.1]\n",
    "churner_nn.add(Dense(dense_classes[0], activation = 'relu', input_dim = 11))\n",
    "churner_nn.add(Dropout(drops[1]))\n",
    "churner_nn.add(Dense(dense_classes[1], activation = 'relu'))\n",
    "churner_nn.add(Dropout(drops[1]))\n",
    "churner_nn.add(Dense(dense_classes[1], activation = 'relu'))\n",
    "churner_nn.add(Dropout(drops[1]))\n",
    "churner_nn.add(Dense(dense_classes[2], activation = 'relu'))"
   ]
  },
  {
   "cell_type": "code",
   "execution_count": 21,
   "metadata": {},
   "outputs": [
    {
     "name": "stderr",
     "output_type": "stream",
     "text": [
      "/usr/local/lib/python3.6/dist-packages/ipykernel_launcher.py:1: UserWarning: Update your `Dense` call to the Keras 2 API: `Dense(activation=\"sigmoid\", units=1)`\n",
      "  \"\"\"Entry point for launching an IPython kernel.\n"
     ]
    }
   ],
   "source": [
    "churner_nn.add(Dense(output_dim = 1, activation = 'sigmoid'))"
   ]
  },
  {
   "cell_type": "code",
   "execution_count": 22,
   "metadata": {},
   "outputs": [],
   "source": [
    "churner_nn.compile(optimizer = 'adam', loss = 'binary_crossentropy', metrics = ['accuracy'])"
   ]
  },
  {
   "cell_type": "code",
   "execution_count": 23,
   "metadata": {},
   "outputs": [
    {
     "name": "stdout",
     "output_type": "stream",
     "text": [
      "WARNING:tensorflow:From /usr/local/lib/python3.6/dist-packages/tensorflow/python/ops/math_ops.py:3066: to_int32 (from tensorflow.python.ops.math_ops) is deprecated and will be removed in a future version.\n",
      "Instructions for updating:\n",
      "Use tf.cast instead.\n"
     ]
    },
    {
     "name": "stderr",
     "output_type": "stream",
     "text": [
      "/usr/local/lib/python3.6/dist-packages/ipykernel_launcher.py:1: UserWarning: The `nb_epoch` argument in `fit` has been renamed `epochs`.\n",
      "  \"\"\"Entry point for launching an IPython kernel.\n"
     ]
    },
    {
     "name": "stdout",
     "output_type": "stream",
     "text": [
      "Epoch 1/70\n",
      "7200/7200 [==============================] - 1s 85us/step - loss: 0.5474 - acc: 0.7912\n",
      "Epoch 2/70\n",
      "7200/7200 [==============================] - 0s 11us/step - loss: 0.4885 - acc: 0.7918\n",
      "Epoch 3/70\n",
      "7200/7200 [==============================] - 0s 10us/step - loss: 0.4643 - acc: 0.7918\n",
      "Epoch 4/70\n",
      "7200/7200 [==============================] - 0s 10us/step - loss: 0.4569 - acc: 0.7918\n",
      "Epoch 5/70\n",
      "7200/7200 [==============================] - 0s 10us/step - loss: 0.4542 - acc: 0.7918\n",
      "Epoch 6/70\n",
      "7200/7200 [==============================] - 0s 11us/step - loss: 0.4513 - acc: 0.7918\n",
      "Epoch 7/70\n",
      "7200/7200 [==============================] - 0s 11us/step - loss: 0.4443 - acc: 0.7918\n",
      "Epoch 8/70\n",
      "7200/7200 [==============================] - 0s 11us/step - loss: 0.4456 - acc: 0.7918\n",
      "Epoch 9/70\n",
      "7200/7200 [==============================] - 0s 11us/step - loss: 0.4414 - acc: 0.7918\n",
      "Epoch 10/70\n",
      "7200/7200 [==============================] - 0s 11us/step - loss: 0.4425 - acc: 0.7918\n",
      "Epoch 11/70\n",
      "7200/7200 [==============================] - 0s 11us/step - loss: 0.4333 - acc: 0.7917\n",
      "Epoch 12/70\n",
      "7200/7200 [==============================] - 0s 11us/step - loss: 0.4292 - acc: 0.8071\n",
      "Epoch 13/70\n",
      "7200/7200 [==============================] - 0s 11us/step - loss: 0.4294 - acc: 0.8101\n",
      "Epoch 14/70\n",
      "7200/7200 [==============================] - 0s 11us/step - loss: 0.4206 - acc: 0.8194\n",
      "Epoch 15/70\n",
      "7200/7200 [==============================] - 0s 11us/step - loss: 0.4138 - acc: 0.8281\n",
      "Epoch 16/70\n",
      "7200/7200 [==============================] - 0s 12us/step - loss: 0.4074 - acc: 0.8274\n",
      "Epoch 17/70\n",
      "7200/7200 [==============================] - 0s 12us/step - loss: 0.4054 - acc: 0.8285\n",
      "Epoch 18/70\n",
      "7200/7200 [==============================] - 0s 12us/step - loss: 0.3938 - acc: 0.8337\n",
      "Epoch 19/70\n",
      "7200/7200 [==============================] - 0s 11us/step - loss: 0.3900 - acc: 0.8378\n",
      "Epoch 20/70\n",
      "7200/7200 [==============================] - 0s 11us/step - loss: 0.3920 - acc: 0.8324\n",
      "Epoch 21/70\n",
      "7200/7200 [==============================] - 0s 12us/step - loss: 0.3839 - acc: 0.8403\n",
      "Epoch 22/70\n",
      "7200/7200 [==============================] - 0s 11us/step - loss: 0.3819 - acc: 0.8386\n",
      "Epoch 23/70\n",
      "7200/7200 [==============================] - 0s 11us/step - loss: 0.3769 - acc: 0.8433\n",
      "Epoch 24/70\n",
      "7200/7200 [==============================] - 0s 11us/step - loss: 0.3749 - acc: 0.8454\n",
      "Epoch 25/70\n",
      "7200/7200 [==============================] - 0s 11us/step - loss: 0.3734 - acc: 0.8454\n",
      "Epoch 26/70\n",
      "7200/7200 [==============================] - 0s 11us/step - loss: 0.3801 - acc: 0.8415\n",
      "Epoch 27/70\n",
      "7200/7200 [==============================] - 0s 11us/step - loss: 0.3674 - acc: 0.8485\n",
      "Epoch 28/70\n",
      "7200/7200 [==============================] - 0s 11us/step - loss: 0.3706 - acc: 0.8444\n",
      "Epoch 29/70\n",
      "7200/7200 [==============================] - 0s 12us/step - loss: 0.3662 - acc: 0.8482\n",
      "Epoch 30/70\n",
      "7200/7200 [==============================] - 0s 12us/step - loss: 0.3711 - acc: 0.8472\n",
      "Epoch 31/70\n",
      "7200/7200 [==============================] - 0s 12us/step - loss: 0.3595 - acc: 0.8503\n",
      "Epoch 32/70\n",
      "7200/7200 [==============================] - 0s 11us/step - loss: 0.3642 - acc: 0.8504\n",
      "Epoch 33/70\n",
      "7200/7200 [==============================] - 0s 12us/step - loss: 0.3686 - acc: 0.8489\n",
      "Epoch 34/70\n",
      "7200/7200 [==============================] - 0s 11us/step - loss: 0.3623 - acc: 0.8493\n",
      "Epoch 35/70\n",
      "7200/7200 [==============================] - 0s 11us/step - loss: 0.3637 - acc: 0.8493\n",
      "Epoch 36/70\n",
      "7200/7200 [==============================] - 0s 12us/step - loss: 0.3641 - acc: 0.8478\n",
      "Epoch 37/70\n",
      "7200/7200 [==============================] - 0s 12us/step - loss: 0.3594 - acc: 0.8519\n",
      "Epoch 38/70\n",
      "7200/7200 [==============================] - 0s 11us/step - loss: 0.3636 - acc: 0.8494\n",
      "Epoch 39/70\n",
      "7200/7200 [==============================] - 0s 12us/step - loss: 0.3631 - acc: 0.8496\n",
      "Epoch 40/70\n",
      "7200/7200 [==============================] - 0s 11us/step - loss: 0.3607 - acc: 0.8506\n",
      "Epoch 41/70\n",
      "7200/7200 [==============================] - 0s 12us/step - loss: 0.3568 - acc: 0.8526\n",
      "Epoch 42/70\n",
      "7200/7200 [==============================] - 0s 11us/step - loss: 0.3595 - acc: 0.8515\n",
      "Epoch 43/70\n",
      "7200/7200 [==============================] - 0s 11us/step - loss: 0.3594 - acc: 0.8515\n",
      "Epoch 44/70\n",
      "7200/7200 [==============================] - 0s 11us/step - loss: 0.3567 - acc: 0.8533\n",
      "Epoch 45/70\n",
      "7200/7200 [==============================] - 0s 12us/step - loss: 0.3542 - acc: 0.8571\n",
      "Epoch 46/70\n",
      "7200/7200 [==============================] - 0s 12us/step - loss: 0.3565 - acc: 0.8536\n",
      "Epoch 47/70\n",
      "7200/7200 [==============================] - 0s 12us/step - loss: 0.3535 - acc: 0.8556\n",
      "Epoch 48/70\n",
      "7200/7200 [==============================] - 0s 12us/step - loss: 0.3544 - acc: 0.8550\n",
      "Epoch 49/70\n",
      "7200/7200 [==============================] - 0s 12us/step - loss: 0.3528 - acc: 0.8576\n",
      "Epoch 50/70\n",
      "7200/7200 [==============================] - 0s 11us/step - loss: 0.3525 - acc: 0.8550\n",
      "Epoch 51/70\n",
      "7200/7200 [==============================] - 0s 11us/step - loss: 0.3509 - acc: 0.8558\n",
      "Epoch 52/70\n",
      "7200/7200 [==============================] - 0s 11us/step - loss: 0.3533 - acc: 0.8546\n",
      "Epoch 53/70\n",
      "7200/7200 [==============================] - 0s 11us/step - loss: 0.3541 - acc: 0.8557\n",
      "Epoch 54/70\n",
      "7200/7200 [==============================] - 0s 11us/step - loss: 0.3504 - acc: 0.8590\n",
      "Epoch 55/70\n",
      "7200/7200 [==============================] - 0s 11us/step - loss: 0.3530 - acc: 0.8538\n",
      "Epoch 56/70\n",
      "7200/7200 [==============================] - 0s 11us/step - loss: 0.3523 - acc: 0.8567\n",
      "Epoch 57/70\n",
      "7200/7200 [==============================] - 0s 11us/step - loss: 0.3509 - acc: 0.8558\n",
      "Epoch 58/70\n",
      "7200/7200 [==============================] - 0s 11us/step - loss: 0.3519 - acc: 0.8578\n",
      "Epoch 59/70\n",
      "7200/7200 [==============================] - 0s 12us/step - loss: 0.3488 - acc: 0.8582\n",
      "Epoch 60/70\n",
      "7200/7200 [==============================] - 0s 12us/step - loss: 0.3520 - acc: 0.8549\n",
      "Epoch 61/70\n",
      "7200/7200 [==============================] - 0s 12us/step - loss: 0.3494 - acc: 0.8576\n",
      "Epoch 62/70\n",
      "7200/7200 [==============================] - 0s 12us/step - loss: 0.3536 - acc: 0.8546\n",
      "Epoch 63/70\n",
      "7200/7200 [==============================] - 0s 12us/step - loss: 0.3494 - acc: 0.8539\n",
      "Epoch 64/70\n",
      "7200/7200 [==============================] - 0s 11us/step - loss: 0.3511 - acc: 0.8536\n",
      "Epoch 65/70\n",
      "7200/7200 [==============================] - 0s 11us/step - loss: 0.3492 - acc: 0.8575\n",
      "Epoch 66/70\n",
      "7200/7200 [==============================] - 0s 12us/step - loss: 0.3485 - acc: 0.8561\n",
      "Epoch 67/70\n",
      "7200/7200 [==============================] - 0s 12us/step - loss: 0.3495 - acc: 0.8583\n",
      "Epoch 68/70\n",
      "7200/7200 [==============================] - 0s 12us/step - loss: 0.3406 - acc: 0.8622\n",
      "Epoch 69/70\n",
      "7200/7200 [==============================] - 0s 12us/step - loss: 0.3501 - acc: 0.8557\n",
      "Epoch 70/70\n",
      "7200/7200 [==============================] - 0s 11us/step - loss: 0.3471 - acc: 0.8568\n"
     ]
    },
    {
     "data": {
      "text/plain": [
       "<keras.callbacks.History at 0x7f07de502320>"
      ]
     },
     "execution_count": 23,
     "metadata": {},
     "output_type": "execute_result"
    }
   ],
   "source": [
    "churner_nn.fit(X_train, y_train, batch_size = 100, nb_epoch = 70)"
   ]
  },
  {
   "cell_type": "code",
   "execution_count": 24,
   "metadata": {},
   "outputs": [],
   "source": [
    "y_pred_val = churner_nn.predict(X_val)\n",
    "y_pred_val = (y_pred_val > 0.5)"
   ]
  },
  {
   "cell_type": "code",
   "execution_count": 25,
   "metadata": {},
   "outputs": [],
   "source": [
    "cm1 = confusion_matrix(y_val, y_pred_val)"
   ]
  },
  {
   "cell_type": "code",
   "execution_count": 26,
   "metadata": {},
   "outputs": [
    {
     "data": {
      "text/plain": [
       "array([[600,  41],\n",
       "       [ 75,  84]])"
      ]
     },
     "execution_count": 26,
     "metadata": {},
     "output_type": "execute_result"
    }
   ],
   "source": [
    "cm1"
   ]
  },
  {
   "cell_type": "code",
   "execution_count": 27,
   "metadata": {},
   "outputs": [
    {
     "data": {
      "text/plain": [
       "0.855"
      ]
     },
     "execution_count": 27,
     "metadata": {},
     "output_type": "execute_result"
    }
   ],
   "source": [
    "(cm1[0][0]+cm1[1][1])/cm1.sum()"
   ]
  },
  {
   "cell_type": "code",
   "execution_count": 28,
   "metadata": {},
   "outputs": [],
   "source": [
    "y_pred_test = churner_nn.predict(X_test)\n",
    "y_pred_test = (y_pred_test > 0.5)"
   ]
  },
  {
   "cell_type": "code",
   "execution_count": 29,
   "metadata": {},
   "outputs": [],
   "source": [
    "cm2 = confusion_matrix(y_test, y_pred_test)"
   ]
  },
  {
   "cell_type": "code",
   "execution_count": 30,
   "metadata": {},
   "outputs": [
    {
     "data": {
      "text/plain": [
       "0.866"
      ]
     },
     "execution_count": 30,
     "metadata": {},
     "output_type": "execute_result"
    }
   ],
   "source": [
    "(cm2[0][0]+cm2[1][1])/cm2.sum()"
   ]
  },
  {
   "cell_type": "code",
   "execution_count": 31,
   "metadata": {},
   "outputs": [
    {
     "data": {
      "text/plain": [
       "array([[1537,   84],\n",
       "       [ 184,  195]])"
      ]
     },
     "execution_count": 31,
     "metadata": {},
     "output_type": "execute_result"
    }
   ],
   "source": [
    "cm2"
   ]
  },
  {
   "cell_type": "code",
   "execution_count": 32,
   "metadata": {},
   "outputs": [
    {
     "data": {
      "text/plain": [
       "array([[600,  41],\n",
       "       [ 75,  84]])"
      ]
     },
     "execution_count": 32,
     "metadata": {},
     "output_type": "execute_result"
    }
   ],
   "source": [
    "cm1"
   ]
  },
  {
   "cell_type": "code",
   "execution_count": 33,
   "metadata": {},
   "outputs": [
    {
     "name": "stdout",
     "output_type": "stream",
     "text": [
      "800/800 [==============================] - 0s 100us/step\n"
     ]
    }
   ],
   "source": [
    "score1 = churner_nn.evaluate(X_val, y_val)"
   ]
  },
  {
   "cell_type": "code",
   "execution_count": 34,
   "metadata": {},
   "outputs": [
    {
     "data": {
      "text/plain": [
       "[0.34154426723718645, 0.855]"
      ]
     },
     "execution_count": 34,
     "metadata": {},
     "output_type": "execute_result"
    }
   ],
   "source": [
    "score1"
   ]
  },
  {
   "cell_type": "code",
   "execution_count": 35,
   "metadata": {},
   "outputs": [
    {
     "name": "stdout",
     "output_type": "stream",
     "text": [
      "2000/2000 [==============================] - 0s 20us/step\n"
     ]
    }
   ],
   "source": [
    "score2 = churner_nn.evaluate(X_test, y_test)"
   ]
  },
  {
   "cell_type": "code",
   "execution_count": 36,
   "metadata": {},
   "outputs": [
    {
     "data": {
      "text/plain": [
       "[0.33121792268753053, 0.866]"
      ]
     },
     "execution_count": 36,
     "metadata": {},
     "output_type": "execute_result"
    }
   ],
   "source": [
    "score2"
   ]
  }
 ],
 "metadata": {
  "kernelspec": {
   "display_name": "Python 3",
   "language": "python",
   "name": "python3"
  },
  "language_info": {
   "codemirror_mode": {
    "name": "ipython",
    "version": 3
   },
   "file_extension": ".py",
   "mimetype": "text/x-python",
   "name": "python",
   "nbconvert_exporter": "python",
   "pygments_lexer": "ipython3",
   "version": "3.6.7"
  }
 },
 "nbformat": 4,
 "nbformat_minor": 2
}

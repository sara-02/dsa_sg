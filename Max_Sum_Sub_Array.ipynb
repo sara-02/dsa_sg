{
 "cells": [
  {
   "cell_type": "markdown",
   "metadata": {},
   "source": [
    "# Max Sum Sub Array Problem"
   ]
  },
  {
   "cell_type": "markdown",
   "metadata": {},
   "source": [
    "* [Geeks for Geeks Video](https://youtu.be/OexQs_cYgAQ)"
   ]
  },
  {
   "cell_type": "markdown",
   "metadata": {},
   "source": [
    "## Brute Force  O(n^3)"
   ]
  },
  {
   "cell_type": "code",
   "execution_count": 105,
   "metadata": {},
   "outputs": [],
   "source": [
    "def brute_force(array):\n",
    "    len_arr = len(array)\n",
    "    prev_sum = 0\n",
    "    curr_sum = 0\n",
    "    sub_arr = []\n",
    "    for i in range(len_arr):\n",
    "        for j in range(len_arr):\n",
    "            if j < i:\n",
    "                continue\n",
    "            curr_sum = 0\n",
    "            for k in range(i, j + 1):\n",
    "                curr_sum += array[k]\n",
    "            if i == 0 and j == 0:\n",
    "                prev_sum = curr_sum\n",
    "                sub_arr = array[0]\n",
    "            if curr_sum > prev_sum:\n",
    "                prev_sum = curr_sum\n",
    "                sub_arr = array[i:j+1]\n",
    "    return sub_arr, prev_sum"
   ]
  },
  {
   "cell_type": "markdown",
   "metadata": {},
   "source": [
    "## Kadane's Algo O(n)"
   ]
  },
  {
   "cell_type": "code",
   "execution_count": 169,
   "metadata": {},
   "outputs": [],
   "source": [
    "def kadane(array):\n",
    "    len_arr = len(array)\n",
    "    prev_sum = 0\n",
    "    curr_sum = 0\n",
    "    sub_array = []\n",
    "    j = 0\n",
    "    for i in range(len_arr):\n",
    "        curr_sum = curr_sum + array[i]\n",
    "        if curr_sum < 0:\n",
    "            curr_sum = 0\n",
    "            j=i+1\n",
    "        elif prev_sum < curr_sum:\n",
    "            prev_sum = curr_sum\n",
    "            sub_array = array[j:i+1]\n",
    "    return sub_array, prev_sum"
   ]
  },
  {
   "cell_type": "markdown",
   "metadata": {},
   "source": [
    "### Wow Kadane's implemention reduced the time complexity by 2 orders, but it does not work for all -ve array list.\n",
    "### To make it work, we need to do a slight modification in the implementation while order remains the same."
   ]
  },
  {
   "cell_type": "markdown",
   "metadata": {},
   "source": [
    "## Modified Kadane O(n)"
   ]
  },
  {
   "cell_type": "code",
   "execution_count": 174,
   "metadata": {},
   "outputs": [],
   "source": [
    "def modified_kadane(array):\n",
    "    len_arr = len(array)\n",
    "    prev_sum = array[0]\n",
    "    curr_sum = array[0]\n",
    "    sub_arr = array[0]\n",
    "    j = 0\n",
    "    for i in range(1,len_arr):\n",
    "        temp = curr_sum + array[i]\n",
    "        if array[i]>temp:\n",
    "            j=i\n",
    "            curr_sum=array[i]\n",
    "        else:\n",
    "            curr_sum=temp\n",
    "        if prev_sum < curr_sum:\n",
    "            prev_sum = curr_sum\n",
    "            sub_arr = array[j:i+1]\n",
    "    return sub_arr, prev_sum"
   ]
  },
  {
   "cell_type": "markdown",
   "metadata": {},
   "source": [
    "## Case 1: Mixed array"
   ]
  },
  {
   "cell_type": "code",
   "execution_count": 186,
   "metadata": {},
   "outputs": [],
   "source": [
    "array1 = [-2, -3, 4, -1, -2, 1, 5, -3]"
   ]
  },
  {
   "cell_type": "code",
   "execution_count": 187,
   "metadata": {},
   "outputs": [
    {
     "name": "stdout",
     "output_type": "stream",
     "text": [
      "Method = Brute Force\n",
      "Max Sum = 7\n",
      "Sub-Array = [4, -1, -2, 1, 5]\n"
     ]
    }
   ],
   "source": [
    "sub_array, max_sum = brute_force(array1)\n",
    "print \"Method = Brute Force\"\n",
    "print \"Max Sum = %d\" % max_sum\n",
    "print \"Sub-Array = %s\" % sub_array"
   ]
  },
  {
   "cell_type": "code",
   "execution_count": 195,
   "metadata": {},
   "outputs": [
    {
     "name": "stdout",
     "output_type": "stream",
     "text": [
      "Method = Kadane\n",
      "Max Sum = 7\n",
      "Sub-Array = [4, -1, -2, 1, 5]\n"
     ]
    }
   ],
   "source": [
    "sub_array, max_sum = kadane(array1)\n",
    "print \"Method = Kadane\"\n",
    "print \"Max Sum = %d\" % max_sum\n",
    "print \"Sub-Array = %s\" % sub_array"
   ]
  },
  {
   "cell_type": "code",
   "execution_count": 196,
   "metadata": {},
   "outputs": [
    {
     "name": "stdout",
     "output_type": "stream",
     "text": [
      "Method = Modified Kadane\n",
      "Max Sum = 7\n",
      "Sub-Array = [4, -1, -2, 1, 5]\n"
     ]
    }
   ],
   "source": [
    "sub_array, max_sum = modified_kadane(array1)\n",
    "print \"Method = Modified Kadane\"\n",
    "print \"Max Sum = %d\" % max_sum\n",
    "print \"Sub-Array = %s\" % sub_array"
   ]
  },
  {
   "cell_type": "markdown",
   "metadata": {},
   "source": [
    "#### So for a mixed array containing both +ve and -ve numbers, all three implementations gave correct result."
   ]
  },
  {
   "cell_type": "markdown",
   "metadata": {},
   "source": [
    "## Case 2: All -ve Array"
   ]
  },
  {
   "cell_type": "code",
   "execution_count": 192,
   "metadata": {},
   "outputs": [],
   "source": [
    "array2 = [-2, -3, -1, -2, -3]"
   ]
  },
  {
   "cell_type": "code",
   "execution_count": 194,
   "metadata": {},
   "outputs": [
    {
     "name": "stdout",
     "output_type": "stream",
     "text": [
      "Method = Brute Force\n",
      "Max Sum = -1\n",
      "Sub-Array = [-1]\n"
     ]
    }
   ],
   "source": [
    "sub_array, max_sum=brute_force(array2)\n",
    "print \"Method = Brute Force\"\n",
    "print \"Max Sum = %d\" % max_sum\n",
    "print \"Sub-Array = %s\" % sub_array"
   ]
  },
  {
   "cell_type": "code",
   "execution_count": 197,
   "metadata": {},
   "outputs": [
    {
     "name": "stdout",
     "output_type": "stream",
     "text": [
      "Method = Kadane\n",
      "Max Sum = 0\n",
      "Sub-Array = []\n"
     ]
    }
   ],
   "source": [
    "sub_array, max_sum = kadane(array2)\n",
    "print \"Method = Kadane\"\n",
    "print \"Max Sum = %d\" % max_sum\n",
    "print \"Sub-Array = %s\" % sub_array"
   ]
  },
  {
   "cell_type": "code",
   "execution_count": 198,
   "metadata": {},
   "outputs": [
    {
     "name": "stdout",
     "output_type": "stream",
     "text": [
      "Method = Modified Kadane\n",
      "Max Sum = -1\n",
      "Sub-Array = [-1]\n"
     ]
    }
   ],
   "source": [
    "sub_array, max_sum = modified_kadane(array2)\n",
    "print \"Method = Modified Kadane\"\n",
    "print \"Max Sum = %d\" % max_sum\n",
    "print \"Sub-Array = %s\" % sub_array"
   ]
  },
  {
   "cell_type": "markdown",
   "metadata": {},
   "source": [
    "#### As expected the Kadane implementation did not yeild correct result. Brute force and modified Kadane method did."
   ]
  },
  {
   "cell_type": "markdown",
   "metadata": {},
   "source": [
    "## Case 3: All +ve array"
   ]
  },
  {
   "cell_type": "markdown",
   "metadata": {},
   "source": [
    "#### Intutively we know, it should be the sum of all elements :)"
   ]
  },
  {
   "cell_type": "code",
   "execution_count": 201,
   "metadata": {},
   "outputs": [],
   "source": [
    "array3 = [2, 3, 4, 1, 2, 1, 5, 3]"
   ]
  },
  {
   "cell_type": "code",
   "execution_count": 205,
   "metadata": {},
   "outputs": [
    {
     "name": "stdout",
     "output_type": "stream",
     "text": [
      "Method = Brute Force\n",
      "Max Sum = 21\n",
      "Sub-Array = [2, 3, 4, 1, 2, 1, 5, 3]\n"
     ]
    }
   ],
   "source": [
    "sub_array, max_sum = brute_force(array3)\n",
    "print \"Method = Brute Force\"\n",
    "print \"Max Sum = %d\" % max_sum\n",
    "print \"Sub-Array = %s\" % sub_array"
   ]
  },
  {
   "cell_type": "code",
   "execution_count": 204,
   "metadata": {},
   "outputs": [
    {
     "name": "stdout",
     "output_type": "stream",
     "text": [
      "Method = Kadane\n",
      "Max Sum = 21\n",
      "Sub-Array = [2, 3, 4, 1, 2, 1, 5, 3]\n"
     ]
    }
   ],
   "source": [
    "sub_array, max_sum = kadane(array3)\n",
    "print \"Method = Kadane\"\n",
    "print \"Max Sum = %d\" % max_sum\n",
    "print \"Sub-Array = %s\" % sub_array"
   ]
  },
  {
   "cell_type": "code",
   "execution_count": 202,
   "metadata": {},
   "outputs": [
    {
     "name": "stdout",
     "output_type": "stream",
     "text": [
      "Method = Modified Kadane\n",
      "Max Sum = 21\n",
      "Sub-Array = [2, 3, 4, 1, 2, 1, 5, 3]\n"
     ]
    }
   ],
   "source": [
    "sub_array, max_sum = modified_kadane(array3)\n",
    "print \"Method = Modified Kadane\"\n",
    "print \"Max Sum = %d\" % max_sum\n",
    "print \"Sub-Array = %s\" % sub_array"
   ]
  },
  {
   "cell_type": "markdown",
   "metadata": {},
   "source": [
    "#### All 3 implementations work well for an all +ve array."
   ]
  }
 ],
 "metadata": {
  "kernelspec": {
   "display_name": "Python 2",
   "language": "python",
   "name": "python2"
  },
  "language_info": {
   "codemirror_mode": {
    "name": "ipython",
    "version": 2
   },
   "file_extension": ".py",
   "mimetype": "text/x-python",
   "name": "python",
   "nbconvert_exporter": "python",
   "pygments_lexer": "ipython2",
   "version": "2.7.13"
  }
 },
 "nbformat": 4,
 "nbformat_minor": 1
}
